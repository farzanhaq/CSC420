{
  "nbformat": 4,
  "nbformat_minor": 0,
  "metadata": {
    "colab": {
      "name": "proj_nn-3.ipynb",
      "provenance": [],
      "collapsed_sections": [],
      "machine_shape": "hm"
    },
    "kernelspec": {
      "name": "python3",
      "display_name": "Python 3"
    },
    "accelerator": "GPU"
  },
  "cells": [
    {
      "cell_type": "code",
      "metadata": {
        "id": "i_Bn17IDj0iq",
        "colab_type": "code",
        "colab": {
          "base_uri": "https://localhost:8080/",
          "height": 141
        },
        "outputId": "ffbf4bde-196c-4322-fd60-5e4076e6a74f"
      },
      "source": [
        "!git clone https://github.com/farzanhaq/CSC420.git"
      ],
      "execution_count": 17,
      "outputs": [
        {
          "output_type": "stream",
          "text": [
            "Cloning into 'CSC420'...\n",
            "remote: Enumerating objects: 1937, done.\u001b[K\n",
            "remote: Counting objects: 100% (1937/1937), done.\u001b[K\n",
            "remote: Compressing objects: 100% (1901/1901), done.\u001b[K\n",
            "remote: Total 1937 (delta 42), reused 1920 (delta 28), pack-reused 0\u001b[K\n",
            "Receiving objects: 100% (1937/1937), 13.74 MiB | 21.65 MiB/s, done.\n",
            "Resolving deltas: 100% (42/42), done.\n"
          ],
          "name": "stdout"
        }
      ]
    },
    {
      "cell_type": "code",
      "metadata": {
        "id": "DCHzKWUsqO10",
        "colab_type": "code",
        "colab": {}
      },
      "source": [
        "# Uncomment this if you want to import data from Drive\n",
        "# from google.colab import drive\n",
        "# drive.mount('/content/drive')"
      ],
      "execution_count": 0,
      "outputs": []
    },
    {
      "cell_type": "code",
      "metadata": {
        "id": "8bTflS4ej2um",
        "colab_type": "code",
        "colab": {}
      },
      "source": [
        "import tensorflow as tf\n",
        "from tensorflow import keras\n",
        "from keras import backend as K\n",
        "\n",
        "from keras.preprocessing.image import load_img\n",
        "from keras.preprocessing.image import img_to_array\n",
        "from keras.applications.vgg16 import preprocess_input\n",
        "from keras.applications.vgg16 import decode_predictions\n",
        "from keras.applications.vgg16 import VGG16\n",
        "from keras.models import Model\n",
        "from pickle import dump\n",
        "from keras.layers import Dense\n",
        "from keras.layers import Flatten\n",
        "\n",
        "import os\n",
        "import numpy as np\n",
        "import matplotlib.pyplot as plt\n",
        "import matplotlib as mpl\n",
        "from sklearn.model_selection import train_test_split\n",
        "from tensorflow.keras import datasets, layers, models\n",
        "from sklearn import datasets, svm, metrics\n",
        "import cv2\n",
        "\n",
        "mpl.rcParams['figure.dpi']=150"
      ],
      "execution_count": 0,
      "outputs": []
    },
    {
      "cell_type": "markdown",
      "metadata": {
        "id": "1RXK5suqLco2",
        "colab_type": "text"
      },
      "source": [
        "Given an image, filter and mode, performs pixelwise convolution on the input image. Output is the filtered version of the input image after being convoluted."
      ]
    },
    {
      "cell_type": "code",
      "metadata": {
        "id": "UAP5mdf5as5g",
        "colab_type": "code",
        "colab": {}
      },
      "source": [
        "def convolution(I, filter, mode):\n",
        "    # Store image shapes\n",
        "    i_shape = I.shape\n",
        "    i_rows = i_shape[0]\n",
        "    i_columns = i_shape[1]\n",
        "\n",
        "    # Store filter shapes\n",
        "    h_shape = filter.shape\n",
        "    h_rows = h_shape[0]\n",
        "    h_columns = h_shape[1]\n",
        "\n",
        "    # Initialize filtered image shape\n",
        "    f_rows, f_columns = 0, 0\n",
        "\n",
        "    # Determine filtered image shape based on specified mode\n",
        "    if mode == 'same':\n",
        "        f_rows = i_rows\n",
        "        f_columns = i_columns\n",
        "    elif mode == 'valid':\n",
        "        f_rows = i_rows - (h_rows // 2) * 2\n",
        "        f_columns = i_columns - (h_columns // 2) * 2\n",
        "    elif mode == 'full':\n",
        "        f_rows = i_rows + (h_rows // 2) * 2\n",
        "        f_columns = i_columns + (h_columns // 2) * 2\n",
        "\n",
        "    # Initialize filtered image with computed shape\n",
        "    filtered_image = np.zeros((f_rows, f_columns))\n",
        "\n",
        "    # Iterate through filtered images rows \n",
        "    for i in range(f_rows):\n",
        "        # X coord of the pixel in the input image we center filter at currently\n",
        "        image_x_pixel = i  \n",
        "        # Determine correct X coord based on specified mode\n",
        "        if mode == 'same':\n",
        "            image_x_pixel = i\n",
        "        elif mode == 'valid':\n",
        "            image_x_pixel = i + (h_rows // 2)\n",
        "        elif mode == 'full':\n",
        "            image_x_pixel = i - (h_rows // 2)\n",
        "\n",
        "        for j in range(f_columns):\n",
        "             # Y coord of the pixel in the input image we center filter at\n",
        "            image_y_pixel = j\n",
        "            # Determine correct Y coord based on specified mode\n",
        "            if mode == 'same':\n",
        "                image_y_pixel = j\n",
        "            elif mode == 'valid':\n",
        "                image_y_pixel = j + (h_columns // 2)\n",
        "            elif mode == 'full':\n",
        "                image_y_pixel = j - (h_columns // 2)\n",
        "\n",
        "            # Initialize sum counter\n",
        "            dot_sum = 0\n",
        "\n",
        "            # Iterate through filter row coordinates\n",
        "            for k in range(-1 * (h_rows // 2), h_rows // 2 + 1):\n",
        "                # Skip invalid pixels\n",
        "                if image_x_pixel + k < 0 or image_x_pixel + k >= i_rows:\n",
        "                    continue\n",
        "                # Iterate through filter column coordinates\n",
        "                for l in range(-1 * (h_columns // 2), h_columns // 2 + 1):\n",
        "                    # Skip invalid pixels\n",
        "                    if image_y_pixel + l < 0 or image_y_pixel + l >= i_columns:\n",
        "                        continue\n",
        "                    # Update sum with convolution output\n",
        "                    filter_val = filter[k + h_rows // 2, l + h_columns // 2]\n",
        "                    image_val = I[image_x_pixel + k, image_y_pixel + l]\n",
        "                    dot_sum += filter_val * image_val\n",
        "\n",
        "            # Update pixel in filtered image with computed sum\n",
        "            filtered_image[i, j] = dot_sum\n",
        "\n",
        "    return filtered_image"
      ],
      "execution_count": 0,
      "outputs": []
    },
    {
      "cell_type": "markdown",
      "metadata": {
        "id": "rVjWk0wYL0E_",
        "colab_type": "text"
      },
      "source": [
        "Given a path to an image of a ballot, segment the image using edge detection and return the candidate and vote"
      ]
    },
    {
      "cell_type": "code",
      "metadata": {
        "id": "4VLs3bqXawS7",
        "colab_type": "code",
        "colab": {}
      },
      "source": [
        "def segment_ballot(img_path):\n",
        "    # Read image at path, convert to grayscale and perform thresholding\n",
        "    img = cv2.imread(img_path)\n",
        "    img_gray = cv2.cvtColor(img, cv2.COLOR_BGR2GRAY)\n",
        "    retval, img_gray_thresholded = cv2.threshold(img_gray, 128, 255, cv2.THRESH_BINARY)\n",
        "\n",
        "    # Initialize horizontal sobel filter\n",
        "    horizontal_filter = np.array([\n",
        "        [1, 2, 1],\n",
        "        [0, 0, 0],\n",
        "        [-1, -2, -1]\n",
        "    ])\n",
        "\n",
        "    # Perform convolution on image with horizontal sobel filter\n",
        "    ballot_segmentation = convolution(img_gray_thresholded, horizontal_filter, 'same')\n",
        "\n",
        "    # Initialize lists to store coordinates of top and bottom borders\n",
        "    ballot_border_top = []\n",
        "    ballot_border_bottom = []\n",
        "\n",
        "    # Iterate through ballot rows in filtered image\n",
        "    for row in range(ballot_segmentation.shape[0]):\n",
        "        is_border_top = True\n",
        "        is_border_bottom = True\n",
        "        # Iterate through ballot columns\n",
        "        for col in range(ballot_segmentation.shape[1]):\n",
        "            # Check if any coordinate along row does not belong to top border\n",
        "            if (ballot_segmentation[row, col] >= 0):\n",
        "                is_border_top = False\n",
        "            # Check if any coordinate along row does not belong to bottom border\n",
        "            if (ballot_segmentation[row, col] <= 0):\n",
        "                is_border_bottom = False\n",
        "        # Assign row oordinates of top borders\n",
        "        if (is_border_top and (row-1) not in ballot_border_top):\n",
        "            ballot_border_top.append(row)\n",
        "        # Assign row coordinates of bottom borders\n",
        "        if (is_border_bottom and (row-1) not in ballot_border_bottom):\n",
        "            ballot_border_bottom.append(row)\n",
        "\n",
        "    # Initialize list to store candidates with votes\n",
        "    num_candidates_with_votes = len(ballot_border_top)\n",
        "    candidate_with_vote = []\n",
        "\n",
        "    # Iterate through number of candidates found from top and bottom border calculations\n",
        "    for i in range(num_candidates_with_votes):\n",
        "        # Add individual thresholded candidate and vote to list\n",
        "        candidate_with_vote.append(img_gray_thresholded[ballot_border_top[i]:ballot_border_bottom[i], 0:img_gray_thresholded.shape[1]])\n",
        "\n",
        "    # Initialize vertical sobel filter\n",
        "    vertical_filter = np.array([\n",
        "            [-1, 0, 1],\n",
        "            [-2, 0, 2],\n",
        "            [-1, 0, 1]\n",
        "        ])\n",
        "    \n",
        "    # Perform convolution on sample individual candidate with vote with vertical sobel filter\n",
        "    candidate_with_vote_segmentation = convolution(candidate_with_vote[0], vertical_filter, 'same')\n",
        "    ballot_border_middle = 0\n",
        "\n",
        "    # Iterate through columns of individual candidates with votes\n",
        "    for col in range(candidate_with_vote_segmentation.shape[1]):\n",
        "        is_border_middle = True\n",
        "        # Iterate through rows of individual candidates with votes\n",
        "        for row in range(candidate_with_vote_segmentation.shape[0]):\n",
        "            # Check if coordinate along column does not belong to dividing border\n",
        "            if (candidate_with_vote_segmentation[row, col] <= 0):\n",
        "                is_border_middle = False\n",
        "        # Assign col coordinate of dividing border\n",
        "        if (is_border_middle and col != 0 and (col - 1) != ballot_border_middle):\n",
        "            ballot_border_middle = col\n",
        "\n",
        "    # Initialize individual segmented candidates and votes to be returned\n",
        "    candidate = []\n",
        "    vote = []\n",
        "\n",
        "    # Iterate through individual candidates with votes\n",
        "    for i in range(len(candidate_with_vote)):\n",
        "        # Add segmented candidate and vote to corresponding lists\n",
        "        candidate.append(candidate_with_vote[i][0:candidate_with_vote[i].shape[0], 0:ballot_border_middle])\n",
        "        vote.append(candidate_with_vote[i][0:candidate_with_vote[i].shape[0], ballot_border_middle:candidate_with_vote[i].shape[1]])\n",
        "\n",
        "    return candidate, vote"
      ],
      "execution_count": 0,
      "outputs": []
    },
    {
      "cell_type": "markdown",
      "metadata": {
        "id": "7A1dnP9fMDXh",
        "colab_type": "text"
      },
      "source": [
        "Given the path to a directory of images, the number of images in that directory and appropriate prefix, read the images and augment them with flips, noise and blur"
      ]
    },
    {
      "cell_type": "code",
      "metadata": {
        "id": "51MBdxUpa1YS",
        "colab_type": "code",
        "colab": {}
      },
      "source": [
        "def augment_data(dir_path, num_images, prefix):\n",
        "    # Iterate through images in folder\n",
        "    for j in range(num_images):\n",
        "        image_path = '{}/{}_votes/{}_vote_{}.png'.format(dir_path, prefix, prefix, j)\n",
        "        img = cv2.imread(image_path, 0)\n",
        "        \n",
        "        # Augment the image by flipping it\n",
        "        img_flip = cv2.flip(img, 1)\n",
        "\n",
        "        # Augment the image by adding noise\n",
        "        img_noise = img + 2 * img.std() * np.random.random(img.shape)\n",
        "\n",
        "        # Initialize gaussian filter\n",
        "        gaussian_filter = np.array([\n",
        "            [1/16, 1/8, 1/16],\n",
        "            [1/8, 1/4, 1/8],\n",
        "            [1/16, 1/8, 1/16]\n",
        "        ])\n",
        "\n",
        "        # Augment the image by manually performing a gaussian blur\n",
        "        img_blur = convolution(img, gaussian_filter, 'same')\n",
        "\n",
        "        # Create unique output paths to save images\n",
        "        output_flip_path = '{}/{}_votes/{}_vote_flip_{}.png'.format(dir_path, prefix, prefix, j)\n",
        "        output_noise_path = '{}/{}_votes/{}_vote_noise_{}.png'.format(dir_path, prefix, prefix, j)\n",
        "        output_blur_path = '{}/{}_votes/{}_vote_blur_{}.png'.format(dir_path, prefix, prefix, j)\n",
        "\n",
        "        cv2.imwrite(output_flip_path, img_flip)\n",
        "        cv2.imwrite(output_noise_path, img_noise)\n",
        "        cv2.imwrite(output_blur_path, img_blur)"
      ],
      "execution_count": 0,
      "outputs": []
    },
    {
      "cell_type": "markdown",
      "metadata": {
        "id": "IDzJK7jJMMFX",
        "colab_type": "text"
      },
      "source": [
        "Given the path to a directory of images, the number of images in that directory and appropriate prefix, read the images and extract the votes for the dataset"
      ]
    },
    {
      "cell_type": "code",
      "metadata": {
        "id": "r3OlU7jQa3ol",
        "colab_type": "code",
        "colab": {}
      },
      "source": [
        "def extract_marks(dir_path, num_images, prefix):\n",
        "    # Iterate through images in folder\n",
        "    for j in range(num_images):\n",
        "        image_path = '{}/{}/{}_{}.png'.format(dir_path, prefix, prefix, j)\n",
        "\n",
        "        # Segment the image\n",
        "        candidate, vote = segment_ballot(image_path)\n",
        "\n",
        "        # Create unique output path\n",
        "        output_path = '{}/{}_votes/{}_vote_{}.png'.format(dir_path, prefix, prefix, j)\n",
        "\n",
        "        # Save the first vote\n",
        "        cv2.imwrite(output_path, vote[0])"
      ],
      "execution_count": 0,
      "outputs": []
    },
    {
      "cell_type": "markdown",
      "metadata": {
        "id": "DNSslXtcBJZo",
        "colab_type": "text"
      },
      "source": [
        "This block of code extracts the candidates name from the given image of a row"
      ]
    },
    {
      "cell_type": "code",
      "metadata": {
        "id": "FMgbp4oPa_qE",
        "colab_type": "code",
        "colab": {}
      },
      "source": [
        "def convertFromBGRToGray(image):\n",
        "    # Convert given image to greyscale\n",
        "    rgb = cv2.cvtColor(image, cv2.COLOR_BGR2RGB)\n",
        "    gray = cv2.cvtColor(rgb, cv2.COLOR_RGB2GRAY)\n",
        "    return gray\n",
        "\n",
        "def loadTemplates(names, dirPath):\n",
        "    # Load the templates from disk\n",
        "    templates = {}\n",
        "    for name in names:\n",
        "        template_image = cv2.imread(dirPath + '{}.png'.format(name))\n",
        "        templates[name] = convertFromBGRToGray(template_image)\n",
        "    \n",
        "    return templates\n",
        "\n",
        "def templateMatching(image, template):\n",
        "    # The template matching function. It slides over the given image\n",
        "    # and calculates normalized cross_correlation at each point, returning the \n",
        "    # highest score it calculates\n",
        "    end_row = image.shape[0] - template.shape[0] + 1\n",
        "    end_col = image.shape[1] - template.shape[1] + 1\n",
        "    \n",
        "    temp_rows = template.shape[0]\n",
        "    temp_cols = template.shape[1]\n",
        "    \n",
        "    max_val = float(\"-inf\")\n",
        "    \n",
        "    for i in range(end_row):\n",
        "        for j in range(end_col):\n",
        "            I = image[i:i + temp_rows, j: j + temp_cols]\n",
        "\n",
        "            score = np.dot(template.flatten().T, I.flatten().T)\n",
        "\n",
        "            i_bar = math.sqrt(np.sum(np.square(I)))\n",
        "            t_bar = math.sqrt(np.sum(np.square(template)))\n",
        "            normalised_factor = i_bar * t_bar\n",
        "\n",
        "            norm_score = score / normalised_factor\n",
        "            if norm_score > max_val:\n",
        "                max_val = norm_score\n",
        "            \n",
        "    return max_val\n",
        "\n",
        "def get_candidate_name(img):\n",
        "    # This function iterates through the templates and calls the template \n",
        "    # matching function. The template which returns the highest score has the\n",
        "    # name of the candidate which matches the one in the image.\n",
        "    initials_to_names = {\n",
        "        'as': 'Andrew Scheer',\n",
        "        'em': 'Elizabeth May',\n",
        "        'js': 'Jagmeet Singh',\n",
        "        'jt': 'Justin Trudeau',\n",
        "        'mb': 'Maxime Bernier',\n",
        "        'yb': 'Yves-François Blanchet'\n",
        "    }\n",
        "    \n",
        "    image = img.copy()\n",
        "    \n",
        "    template_names = ['as', 'em', 'js', 'jt', 'mb', 'yb']\n",
        "    \n",
        "    templates = loadTemplates(template_names, 'CSC420/templates/')\n",
        "    max_score = 0\n",
        "    max_contendor = None\n",
        "    \n",
        "    for key in templates:\n",
        "        template = templates[key]\n",
        "\n",
        "        res = cv2.matchTemplate(image, template, cv2.TM_CCOEFF_NORMED)\n",
        "        # max_val = templateMatching(image, template)\n",
        "    \n",
        "        min_val, max_val, min_loc, max_loc = cv2.minMaxLoc(res)\n",
        "\n",
        "        if max_val > max_score:\n",
        "            max_score = max_val\n",
        "            max_contendor = key\n",
        "    \n",
        "    return max_contendor"
      ],
      "execution_count": 0,
      "outputs": []
    },
    {
      "cell_type": "markdown",
      "metadata": {
        "id": "hV-2FYDYB2p9",
        "colab_type": "text"
      },
      "source": [
        "These are our two networks. The first CNN() is a simple network that builds on the VGG16 network. It just takes the features extracted by VGG16, applies a classifcation layer and then a sigmoid to classify it as a binary output\n",
        "\n",
        "The VGG16 network is a pretrained netowrk. We take out its final classification layer and instead just use it for extracting features from our images."
      ]
    },
    {
      "cell_type": "code",
      "metadata": {
        "id": "k3BgY_KFbC6q",
        "colab_type": "code",
        "colab": {}
      },
      "source": [
        "def CNN():\n",
        "    # Our own network. Take the features received from the VGG16 network and\n",
        "    # apply a dense layer as our classification layer followed by a sigmoid\n",
        "    # to bring our prediction down to a value between 0 and 1\n",
        "    model = models.Sequential()\n",
        "\n",
        "    model.add(layers.Dense(1024, activation='relu', input_shape=(4096,)))\n",
        "    model.add(layers.Dense(1, activation='sigmoid'))\n",
        "\n",
        "    return model\n",
        "\n",
        "def get_transfer_model():\n",
        "\t# Load the model for transfer learning\n",
        "\tmodel = VGG16()\n",
        "\t# Remove its last classification learning\n",
        "\tmodel.layers.pop()\n",
        "\tmodel = Model(inputs=model.inputs, outputs=model.layers[-1].output)\n",
        "\n",
        "\treturn model"
      ],
      "execution_count": 0,
      "outputs": []
    },
    {
      "cell_type": "code",
      "metadata": {
        "id": "DFowaP0tn37m",
        "colab_type": "code",
        "colab": {}
      },
      "source": [
        "def get_models():\n",
        "    # Load the dataset, train our model using the VGG16 as a feature extractor\n",
        "    x, y = load_dataset()\n",
        "    train_x, test_x, train_y, test_y = train_test_split(x, y, test_size=0.15)\n",
        "    \n",
        "    transfer_model = get_transfer_model()\n",
        "    \n",
        "    train_features = transfer_model.predict(train_x)\n",
        "    test_features = transfer_model.predict(test_x)\n",
        "    \n",
        "    my_model = CNN()\n",
        "    # Used binary cross entropy as it works best for this case of a network\n",
        "    # where our output is a binary classifier\n",
        "    my_model.compile(optimizer='adam', loss='binary_crossentropy', metrics=['acc'])\n",
        "    \n",
        "    my_model.fit(train_features, np.array(train_y), batch_size=10, epochs=25, validation_data=(test_features, np.array(test_y)))    \n",
        "    \n",
        "    return transfer_model, my_model\t"
      ],
      "execution_count": 0,
      "outputs": []
    },
    {
      "cell_type": "code",
      "metadata": {
        "id": "yTi_X-G2nfIG",
        "colab_type": "code",
        "colab": {}
      },
      "source": [
        "def load_dataset():\n",
        "    # Preprocess the images and prepare them for the network\n",
        "    print(\"Loading dataset\")\n",
        "    root_dir = 'CSC420/dataset'\n",
        "    valid_dir = '{}/valid_votes'.format(root_dir)\n",
        "    invalid_dir = '{}/invalid_votes'.format(root_dir)\n",
        "\n",
        "    valid_files = os.listdir(valid_dir)\n",
        "    invalid_files = os.listdir(invalid_dir)\n",
        "\n",
        "    train_x = []\n",
        "    train_y = []\n",
        "\n",
        "    for f in valid_files:\n",
        "        filename = '{}/{}'.format(valid_dir, f)\n",
        "        image = load_img(filename, target_size=(224, 224))\n",
        "        image = img_to_array(image)\n",
        "        train_x.append(image)\n",
        "        train_y.append(1)\n",
        "        \n",
        "    for f in invalid_files:\n",
        "        filename = '{}/{}'.format(invalid_dir, f)\n",
        "        image = load_img(filename, target_size=(224, 224))\n",
        "        image = img_to_array(image)\n",
        "        train_x.append(image)\n",
        "        train_y.append(0)\n",
        "    \n",
        "    train_x = np.array(train_x)\n",
        "    print(\"Dataset finished loading\")\n",
        "\n",
        "    return train_x, train_y"
      ],
      "execution_count": 0,
      "outputs": []
    },
    {
      "cell_type": "code",
      "metadata": {
        "id": "fHEqe8KiePsh",
        "colab_type": "code",
        "colab": {}
      },
      "source": [
        "def get_cast_ballots():\n",
        "    # Get the simulation ballots from disk, segment them into sections\n",
        "    ballot_dir = 'CSC420/simulation'\n",
        "    ballot_files = os.listdir(ballot_dir)\n",
        "\n",
        "    ballots = []\n",
        "\n",
        "    for i in range(len(ballot_files)):\n",
        "        filename = '{}/{}'.format(ballot_dir, ballot_files[i])\n",
        "        candidate, votes = segment_ballot(filename)\n",
        "        ballots.append((candidate, votes))\n",
        "    return ballots\n",
        "\n",
        "def get_ballot_result(transfer_model, my_model, candidates, votes):\n",
        "    # Take each ballot and determine if it is valid or invalid\n",
        "    cand_array = []\n",
        "    vote_array = []\n",
        "    valid_ballot = 0\n",
        "\n",
        "    # For each row, extract the candidate name and determine if the mark against\n",
        "    # it is valid or invalid\n",
        "    for i in range(len(candidates)):\n",
        "        candidate = get_candidate_name(candidates[i])\n",
        "        print(\"Candidate is {}\".format(candidate))\n",
        "        cand_array.append(candidate)\n",
        "        vote = votes[i]\n",
        "        cv2.imwrite('temp.png', vote)\n",
        "        image = load_img('temp.png', target_size=(224, 224))\n",
        "        os.remove('temp.png')\n",
        "        image = img_to_array(image)\n",
        "        image = image.reshape((1, image.shape[0], image.shape[1], image.shape[2]))\n",
        "        image_features = transfer_model.predict(image)\n",
        "        model_input = np.array(image_features)\n",
        "        prediction = my_model.predict(model_input)\n",
        "        print(\"Prediction {}: {}\".format(i, prediction))\n",
        "        if prediction > 0.75:\n",
        "            vote_array.append(1)\n",
        "            valid_ballot += 1\n",
        "        else:\n",
        "            vote_array.append(0)\n",
        "\n",
        "    print(vote_array)\n",
        "\n",
        "    # Tally all the votes and determine if the whole ballot is valid or not \n",
        "    if valid_ballot == 0 or valid_ballot > 1:\n",
        "        print(\"Invalid Ballot\")\n",
        "        return False, None\n",
        "\n",
        "    print(\"Ballot is valid\")\n",
        "    cand_win = cand_array[np.argmax(np.array(vote_array))]\n",
        "    print(\"Ballot won by {}\".format(cand_win))\n",
        "    return True, cand_win\n",
        "\n",
        "def evaluate_election():\n",
        "    # Determine the result of the election simulated by the simulation ballots\n",
        "    initials_to_names = {\n",
        "        'as': 'Andrew Scheer',\n",
        "        'em': 'Elizabeth May',\n",
        "        'js': 'Jagmeet Singh',\n",
        "        'jt': 'Justin Trudeau',\n",
        "        'mb': 'Maxime Bernier',\n",
        "        'yb': 'Yves-François Blanchet'\n",
        "    }\n",
        "\n",
        "    votes_count = {\n",
        "        'as': 0,\n",
        "        'em': 0,\n",
        "        'js': 0,\n",
        "        'jt': 0,\n",
        "        'mb': 0,\n",
        "        'yb': 0\n",
        "    }\n",
        "\n",
        "    transfer_model, my_model = get_models()\n",
        "\n",
        "    cast_ballots = get_cast_ballots()\n",
        "    for ballot in cast_ballots:\n",
        "        candidate, vote = ballot\n",
        "        result, winner = get_ballot_result(transfer_model, my_model, candidate, vote)\n",
        "        if result is True:\n",
        "            print(winner)\n",
        "            votes_count[winner] = votes_count[winner] + 1\n",
        "        print(\"\")\n",
        "    \n",
        "    cand_array = []\n",
        "    votes_array = []\n",
        "    print(\"\")\n",
        "\n",
        "    for key in votes_count.keys():\n",
        "        cand_array.append(key)\n",
        "        c = initials_to_names[key]\n",
        "        v = votes_count[key]\n",
        "        votes_array.append(v)\n",
        "\n",
        "        print('{} received {} votes'.format(c, v))\n",
        "\n",
        "    winner = cand_array[np.argmax(np.array(votes_array))]\n",
        "    print(\"\")\n",
        "    print(\"The winner is {}\".format(initials_to_names[winner]))"
      ],
      "execution_count": 0,
      "outputs": []
    },
    {
      "cell_type": "markdown",
      "metadata": {
        "id": "1M5WRQRNAt2z",
        "colab_type": "text"
      },
      "source": [
        "The next few outputs show the images that the simulation is run on."
      ]
    },
    {
      "cell_type": "code",
      "metadata": {
        "id": "8g-TvLzNAm63",
        "colab_type": "code",
        "outputId": "e092a4fc-6962-4d85-d4af-25f29ebdf162",
        "colab": {
          "base_uri": "https://localhost:8080/",
          "height": 560
        }
      },
      "source": [
        "plt.imshow(cv2.imread('CSC420/simulation/vote_0.png'))"
      ],
      "execution_count": 35,
      "outputs": [
        {
          "output_type": "execute_result",
          "data": {
            "text/plain": [
              "<matplotlib.image.AxesImage at 0x7fb67006ecc0>"
            ]
          },
          "metadata": {
            "tags": []
          },
          "execution_count": 35
        },
        {
          "output_type": "display_data",
          "data": {
            "image/png": "[encoded data removed]",
            "text/plain": [
              "<Figure size 900x600 with 1 Axes>"
            ]
          },
          "metadata": {
            "tags": []
          }
        }
      ]
    },
    {
      "cell_type": "code",
      "metadata": {
        "id": "VucdtWVrEOkt",
        "colab_type": "code",
        "outputId": "9d10cc91-ae57-4dc5-df70-143e8fdd45bc",
        "colab": {
          "base_uri": "https://localhost:8080/",
          "height": 560
        }
      },
      "source": [
        "plt.imshow(cv2.imread('CSC420/simulation/vote_1.png'))"
      ],
      "execution_count": 36,
      "outputs": [
        {
          "output_type": "execute_result",
          "data": {
            "text/plain": [
              "<matplotlib.image.AxesImage at 0x7fb670048400>"
            ]
          },
          "metadata": {
            "tags": []
          },
          "execution_count": 36
        },
        {
          "output_type": "display_data",
          "data": {
            "image/png": "[encoded data removed]",
            "text/plain": [
              "<Figure size 900x600 with 1 Axes>"
            ]
          },
          "metadata": {
            "tags": []
          }
        }
      ]
    },
    {
      "cell_type": "code",
      "metadata": {
        "id": "mvbp8QncEQyA",
        "colab_type": "code",
        "outputId": "dcdd5039-5c2f-4c07-d820-8f7a41a1321b",
        "colab": {
          "base_uri": "https://localhost:8080/",
          "height": 560
        }
      },
      "source": [
        "plt.imshow(cv2.imread('CSC420/simulation/vote_2.png'))"
      ],
      "execution_count": 37,
      "outputs": [
        {
          "output_type": "execute_result",
          "data": {
            "text/plain": [
              "<matplotlib.image.AxesImage at 0x7fb60c2d2e80>"
            ]
          },
          "metadata": {
            "tags": []
          },
          "execution_count": 37
        },
        {
          "output_type": "display_data",
          "data": {
            "image/png": "[encoded data removed]",
            "text/plain": [
              "<Figure size 900x600 with 1 Axes>"
            ]
          },
          "metadata": {
            "tags": []
          }
        }
      ]
    },
    {
      "cell_type": "code",
      "metadata": {
        "id": "AsbKel54ESxz",
        "colab_type": "code",
        "outputId": "ccfb076a-5620-4531-9eee-e47ce8b24f09",
        "colab": {
          "base_uri": "https://localhost:8080/",
          "height": 560
        }
      },
      "source": [
        "plt.imshow(cv2.imread('CSC420/simulation/vote_3.png'))"
      ],
      "execution_count": 38,
      "outputs": [
        {
          "output_type": "execute_result",
          "data": {
            "text/plain": [
              "<matplotlib.image.AxesImage at 0x7fb60c2aaf98>"
            ]
          },
          "metadata": {
            "tags": []
          },
          "execution_count": 38
        },
        {
          "output_type": "display_data",
          "data": {
            "image/png": "[encoded data removed]",
            "text/plain": [
              "<Figure size 900x600 with 1 Axes>"
            ]
          },
          "metadata": {
            "tags": []
          }
        }
      ]
    },
    {
      "cell_type": "code",
      "metadata": {
        "id": "NIGJVjz6EUSP",
        "colab_type": "code",
        "outputId": "25ef23f2-3c6f-4d2d-c06c-e34ca6bf25b7",
        "colab": {
          "base_uri": "https://localhost:8080/",
          "height": 560
        }
      },
      "source": [
        "plt.imshow(cv2.imread('CSC420/simulation/vote_4.png'))"
      ],
      "execution_count": 39,
      "outputs": [
        {
          "output_type": "execute_result",
          "data": {
            "text/plain": [
              "<matplotlib.image.AxesImage at 0x7fb60c20b0f0>"
            ]
          },
          "metadata": {
            "tags": []
          },
          "execution_count": 39
        },
        {
          "output_type": "display_data",
          "data": {
            "image/png": "[encoded data removed]",
            "text/plain": [
              "<Figure size 900x600 with 1 Axes>"
            ]
          },
          "metadata": {
            "tags": []
          }
        }
      ]
    },
    {
      "cell_type": "code",
      "metadata": {
        "id": "LNlmpZ5iEV75",
        "colab_type": "code",
        "outputId": "ed1d4933-8bbb-4b2f-f9ba-f2e74d8bc8fa",
        "colab": {
          "base_uri": "https://localhost:8080/",
          "height": 560
        }
      },
      "source": [
        "plt.imshow(cv2.imread('CSC420/simulation/vote_5.png'))"
      ],
      "execution_count": 40,
      "outputs": [
        {
          "output_type": "execute_result",
          "data": {
            "text/plain": [
              "<matplotlib.image.AxesImage at 0x7fb60c1e1208>"
            ]
          },
          "metadata": {
            "tags": []
          },
          "execution_count": 40
        },
        {
          "output_type": "display_data",
          "data": {
            "image/png": "[encoded data removed]",
            "text/plain": [
              "<Figure size 900x600 with 1 Axes>"
            ]
          },
          "metadata": {
            "tags": []
          }
        }
      ]
    },
    {
      "cell_type": "markdown",
      "metadata": {
        "id": "One0kaTZEeen",
        "colab_type": "text"
      },
      "source": [
        "The main function, this will run the call to evaluate the election"
      ]
    },
    {
      "cell_type": "code",
      "metadata": {
        "id": "xNfphRFjt1HV",
        "colab_type": "code",
        "outputId": "440aa541-b934-4486-fccb-696548fcb2fe",
        "colab": {
          "base_uri": "https://localhost:8080/",
          "height": 1000
        }
      },
      "source": [
        "evaluate_election()"
      ],
      "execution_count": 41,
      "outputs": [
        {
          "output_type": "stream",
          "text": [
            "Loading dataset\n",
            "Dataset finished loading\n",
            "Train on 680 samples, validate on 120 samples\n",
            "Epoch 1/25\n",
            "680/680 [==============================] - 0s 582us/sample - loss: 1.3366 - acc: 0.8118 - val_loss: 0.1965 - val_acc: 0.9167\n",
            "Epoch 2/25\n",
            "680/680 [==============================] - 0s 332us/sample - loss: 0.1681 - acc: 0.9368 - val_loss: 0.1483 - val_acc: 0.9417\n",
            "Epoch 3/25\n",
            "680/680 [==============================] - 0s 341us/sample - loss: 0.1375 - acc: 0.9338 - val_loss: 0.2132 - val_acc: 0.9250\n",
            "Epoch 4/25\n",
            "680/680 [==============================] - 0s 337us/sample - loss: 0.0980 - acc: 0.9574 - val_loss: 0.1007 - val_acc: 0.9500\n",
            "Epoch 5/25\n",
            "680/680 [==============================] - 0s 339us/sample - loss: 0.0570 - acc: 0.9838 - val_loss: 0.1066 - val_acc: 0.9667\n",
            "Epoch 6/25\n",
            "680/680 [==============================] - 0s 325us/sample - loss: 0.0249 - acc: 0.9971 - val_loss: 0.1061 - val_acc: 0.9500\n",
            "Epoch 7/25\n",
            "680/680 [==============================] - 0s 335us/sample - loss: 0.0310 - acc: 0.9912 - val_loss: 0.0955 - val_acc: 0.9667\n",
            "Epoch 8/25\n",
            "680/680 [==============================] - 0s 329us/sample - loss: 0.0237 - acc: 0.9897 - val_loss: 0.1804 - val_acc: 0.9250\n",
            "Epoch 9/25\n",
            "680/680 [==============================] - 0s 323us/sample - loss: 0.0144 - acc: 0.9956 - val_loss: 0.0953 - val_acc: 0.9583\n",
            "Epoch 10/25\n",
            "680/680 [==============================] - 0s 337us/sample - loss: 0.0074 - acc: 1.0000 - val_loss: 0.0949 - val_acc: 0.9583\n",
            "Epoch 11/25\n",
            "680/680 [==============================] - 0s 356us/sample - loss: 0.0038 - acc: 1.0000 - val_loss: 0.0941 - val_acc: 0.9667\n",
            "Epoch 12/25\n",
            "680/680 [==============================] - 0s 331us/sample - loss: 0.0032 - acc: 1.0000 - val_loss: 0.0850 - val_acc: 0.9667\n",
            "Epoch 13/25\n",
            "680/680 [==============================] - 0s 330us/sample - loss: 0.0025 - acc: 1.0000 - val_loss: 0.0922 - val_acc: 0.9750\n",
            "Epoch 14/25\n",
            "680/680 [==============================] - 0s 327us/sample - loss: 0.0019 - acc: 1.0000 - val_loss: 0.0971 - val_acc: 0.9667\n",
            "Epoch 15/25\n",
            "680/680 [==============================] - 0s 326us/sample - loss: 0.0020 - acc: 1.0000 - val_loss: 0.0875 - val_acc: 0.9750\n",
            "Epoch 16/25\n",
            "680/680 [==============================] - 0s 328us/sample - loss: 0.0014 - acc: 1.0000 - val_loss: 0.0894 - val_acc: 0.9750\n",
            "Epoch 17/25\n",
            "680/680 [==============================] - 0s 328us/sample - loss: 0.0012 - acc: 1.0000 - val_loss: 0.0934 - val_acc: 0.9667\n",
            "Epoch 18/25\n",
            "680/680 [==============================] - 0s 321us/sample - loss: 0.0013 - acc: 1.0000 - val_loss: 0.0949 - val_acc: 0.9750\n",
            "Epoch 19/25\n",
            "680/680 [==============================] - 0s 333us/sample - loss: 9.9294e-04 - acc: 1.0000 - val_loss: 0.0912 - val_acc: 0.9750\n",
            "Epoch 20/25\n",
            "680/680 [==============================] - 0s 323us/sample - loss: 9.4334e-04 - acc: 1.0000 - val_loss: 0.0943 - val_acc: 0.9750\n",
            "Epoch 21/25\n",
            "680/680 [==============================] - 0s 320us/sample - loss: 7.9415e-04 - acc: 1.0000 - val_loss: 0.0945 - val_acc: 0.9667\n",
            "Epoch 22/25\n",
            "680/680 [==============================] - 0s 328us/sample - loss: 7.0334e-04 - acc: 1.0000 - val_loss: 0.0954 - val_acc: 0.9750\n",
            "Epoch 23/25\n",
            "680/680 [==============================] - 0s 328us/sample - loss: 6.4979e-04 - acc: 1.0000 - val_loss: 0.0988 - val_acc: 0.9750\n",
            "Epoch 24/25\n",
            "680/680 [==============================] - 0s 330us/sample - loss: 6.1510e-04 - acc: 1.0000 - val_loss: 0.0950 - val_acc: 0.9750\n",
            "Epoch 25/25\n",
            "680/680 [==============================] - 0s 328us/sample - loss: 5.4202e-04 - acc: 1.0000 - val_loss: 0.0960 - val_acc: 0.9750\n",
            "Candidate is jt\n",
            "Prediction 0: [[0.9675556]]\n",
            "Candidate is as\n",
            "Prediction 1: [[4.547761e-06]]\n",
            "Candidate is js\n",
            "Prediction 2: [[4.547761e-06]]\n",
            "Candidate is em\n",
            "Prediction 3: [[4.547761e-06]]\n",
            "Candidate is yb\n",
            "Prediction 4: [[4.547761e-06]]\n",
            "Candidate is mb\n",
            "Prediction 5: [[4.547761e-06]]\n",
            "[1, 0, 0, 0, 0, 0]\n",
            "Ballot is valid\n",
            "Ballot won by jt\n",
            "jt\n",
            "\n",
            "Candidate is jt\n",
            "Prediction 0: [[4.547761e-06]]\n",
            "Candidate is as\n",
            "Prediction 1: [[4.547761e-06]]\n",
            "Candidate is js\n",
            "Prediction 2: [[4.547761e-06]]\n",
            "Candidate is em\n",
            "Prediction 3: [[2.8166258e-07]]\n",
            "Candidate is yb\n",
            "Prediction 4: [[4.547761e-06]]\n",
            "Candidate is mb\n",
            "Prediction 5: [[4.547761e-06]]\n",
            "[0, 0, 0, 0, 0, 0]\n",
            "Invalid Ballot\n",
            "\n",
            "Candidate is jt\n",
            "Prediction 0: [[4.547761e-06]]\n",
            "Candidate is as\n",
            "Prediction 1: [[0.]]\n",
            "Candidate is js\n",
            "Prediction 2: [[4.547761e-06]]\n",
            "Candidate is em\n",
            "Prediction 3: [[4.547761e-06]]\n",
            "Candidate is yb\n",
            "Prediction 4: [[4.547761e-06]]\n",
            "Candidate is mb\n",
            "Prediction 5: [[4.547761e-06]]\n",
            "[0, 0, 0, 0, 0, 0]\n",
            "Invalid Ballot\n",
            "\n",
            "Candidate is jt\n",
            "Prediction 0: [[4.547761e-06]]\n",
            "Candidate is as\n",
            "Prediction 1: [[0.9998504]]\n",
            "Candidate is js\n",
            "Prediction 2: [[4.547761e-06]]\n",
            "Candidate is em\n",
            "Prediction 3: [[4.547761e-06]]\n",
            "Candidate is yb\n",
            "Prediction 4: [[4.547761e-06]]\n",
            "Candidate is mb\n",
            "Prediction 5: [[4.547761e-06]]\n",
            "[0, 1, 0, 0, 0, 0]\n",
            "Ballot is valid\n",
            "Ballot won by as\n",
            "as\n",
            "\n",
            "Candidate is jt\n",
            "Prediction 0: [[0.99865913]]\n",
            "Candidate is as\n",
            "Prediction 1: [[4.547761e-06]]\n",
            "Candidate is js\n",
            "Prediction 2: [[4.547761e-06]]\n",
            "Candidate is em\n",
            "Prediction 3: [[4.547761e-06]]\n",
            "Candidate is yb\n",
            "Prediction 4: [[4.547761e-06]]\n",
            "Candidate is mb\n",
            "Prediction 5: [[4.547761e-06]]\n",
            "[1, 0, 0, 0, 0, 0]\n",
            "Ballot is valid\n",
            "Ballot won by jt\n",
            "jt\n",
            "\n",
            "Candidate is jt\n",
            "Prediction 0: [[4.547761e-06]]\n",
            "Candidate is as\n",
            "Prediction 1: [[4.547761e-06]]\n",
            "Candidate is js\n",
            "Prediction 2: [[4.547761e-06]]\n",
            "Candidate is em\n",
            "Prediction 3: [[4.547761e-06]]\n",
            "Candidate is yb\n",
            "Prediction 4: [[0.9986834]]\n",
            "Candidate is mb\n",
            "Prediction 5: [[0.99803]]\n",
            "[0, 0, 0, 0, 1, 1]\n",
            "Invalid Ballot\n",
            "\n",
            "\n",
            "Andrew Scheer received 1 votes\n",
            "Elizabeth May received 0 votes\n",
            "Jagmeet Singh received 0 votes\n",
            "Justin Trudeau received 2 votes\n",
            "Maxime Bernier received 0 votes\n",
            "Yves-François Blanchet received 0 votes\n",
            "\n",
            "The winner is Justin Trudeau\n"
          ],
          "name": "stdout"
        }
      ]
    }
  ]
}